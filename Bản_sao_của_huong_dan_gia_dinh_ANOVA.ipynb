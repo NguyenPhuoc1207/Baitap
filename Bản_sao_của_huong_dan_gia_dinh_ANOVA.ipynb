{
  "nbformat": 4,
  "nbformat_minor": 0,
  "metadata": {
    "kernelspec": {
      "display_name": "Python 3",
      "language": "python",
      "name": "python3"
    },
    "language_info": {
      "codemirror_mode": {
        "name": "ipython",
        "version": 3
      },
      "file_extension": ".py",
      "mimetype": "text/x-python",
      "name": "python",
      "nbconvert_exporter": "python",
      "pygments_lexer": "ipython3",
      "version": "3.7.3"
    },
    "colab": {
      "name": "Bản sao của huong-dan-gia-dinh-ANOVA.ipynb",
      "provenance": []
    }
  },
  "cells": [
    {
      "cell_type": "markdown",
      "metadata": {
        "id": "RtxdVRX4PJva"
      },
      "source": [
        "PHÂN TÍCH ANOVA MỘT CHIỀU\n",
        "\n",
        "Phân tích ANOVA chấp nhận các giả định sau:\n",
        "\n",
        "(1) Tất cả các nhóm đều độc lập với nhau\n",
        "\n",
        "(2) Dữ liệu của mỗi nhóm đều tuân theo phân phối chuẩn. Tính chất này có thể được kiểm định bằng phương pháp Shapiro-Wilks.\n",
        "\n",
        "(3) Phương sai (variance) của các nhóm bằng nhau. Tính chất này có thể được kiểm định bằng phương pháp kiểm định Bartlett hay Levene.\n",
        "\n",
        "Nếu dữ liệu hiện có thỏa mãn các tính chất trên thì chúng ta mới tiến hành kiểm định ANOVA. Do vậy trước khi tiến hành kiểm định ANOVA, chúng ta cần thực hiện kiểm tra tập dữ liệu cần thỏa mãn 3 tính chất trên.\n",
        "    "
      ]
    },
    {
      "cell_type": "code",
      "metadata": {
        "id": "RgNABHQKULYv"
      },
      "source": [
        "import numpy as np\n",
        "from scipy import stats\n",
        "from scipy.stats import shapiro"
      ],
      "execution_count": 25,
      "outputs": []
    },
    {
      "cell_type": "code",
      "metadata": {
        "id": "TdgSr1_DPJvt",
        "colab": {
          "base_uri": "https://localhost:8080/"
        },
        "outputId": "5d0a72b9-e5f7-4259-c68b-a038f269f827"
      },
      "source": [
        "mean_1 =2.7\n",
        "std_1 =1.2\n",
        "size = 40\n",
        "samples_1 = np.random.normal(mean_1, std_1, size=100)\n",
        "samples_1"
      ],
      "execution_count": 18,
      "outputs": [
        {
          "output_type": "execute_result",
          "data": {
            "text/plain": [
              "array([2.44941255, 5.09406387, 2.264335  , 0.41166919, 3.33103381,\n",
              "       3.632822  , 1.99041038, 0.84828782, 3.20705424, 3.11539962,\n",
              "       1.79789197, 2.17287335, 3.72161126, 2.27831977, 3.36816381,\n",
              "       2.80636751, 3.51903842, 2.63412098, 2.3345473 , 1.95057603,\n",
              "       2.43418043, 3.27438523, 0.58149316, 1.25279659, 2.4534136 ,\n",
              "       1.71931453, 2.01034255, 2.2427358 , 1.18234588, 1.86330187,\n",
              "       5.25830524, 3.20688763, 4.14584235, 2.88685398, 2.27269443,\n",
              "       4.49150498, 3.52880241, 6.01496031, 4.1176107 , 4.20090598,\n",
              "       3.41351991, 0.88484479, 2.61081381, 3.04883878, 2.40632152,\n",
              "       3.41864443, 1.96851555, 2.66200245, 1.8977382 , 4.49011425,\n",
              "       4.41522701, 2.44078023, 2.551945  , 1.85182871, 3.31174927,\n",
              "       0.92239973, 2.67214584, 3.04702902, 4.43178592, 2.69969339,\n",
              "       2.76052211, 3.80473393, 2.8086877 , 3.59051839, 1.67444026,\n",
              "       3.30424688, 2.71931398, 4.26572246, 0.22602599, 1.75868987,\n",
              "       2.82838158, 2.26509334, 0.22616873, 3.76494545, 2.1045819 ,\n",
              "       1.9339141 , 4.33146565, 2.24266803, 4.96352055, 2.734478  ,\n",
              "       1.66564089, 1.19184789, 0.08205238, 3.10146046, 4.81532206,\n",
              "       1.94909364, 2.71128612, 3.18982628, 4.38765485, 1.3316408 ,\n",
              "       4.05379685, 1.95272097, 2.3022332 , 2.44194197, 3.53559188,\n",
              "       3.82574785, 1.95692503, 3.09630986, 2.36683194, 4.65276021])"
            ]
          },
          "metadata": {
            "tags": []
          },
          "execution_count": 18
        }
      ]
    },
    {
      "cell_type": "code",
      "metadata": {
        "id": "ti98x8ydTMCs"
      },
      "source": [
        ""
      ],
      "execution_count": null,
      "outputs": []
    },
    {
      "cell_type": "code",
      "metadata": {
        "id": "zjpKESUtPJvw",
        "colab": {
          "base_uri": "https://localhost:8080/"
        },
        "outputId": "b3d6b7eb-5464-47b9-8a2a-4e1c957611d4"
      },
      "source": [
        "\n",
        "sample_2 = stats.poisson.rvs(loc=18,\n",
        "                              mu=30,\n",
        "                              size=100)\n",
        "sample_2"
      ],
      "execution_count": 19,
      "outputs": [
        {
          "output_type": "execute_result",
          "data": {
            "text/plain": [
              "array([52, 47, 49, 45, 51, 50, 41, 45, 59, 51, 46, 53, 40, 49, 55, 54, 56,\n",
              "       44, 47, 52, 49, 61, 60, 48, 51, 45, 54, 52, 60, 58, 42, 50, 49, 40,\n",
              "       43, 34, 56, 52, 44, 42, 41, 48, 51, 46, 42, 51, 51, 48, 51, 55, 39,\n",
              "       51, 47, 41, 54, 41, 45, 48, 46, 52, 47, 42, 44, 47, 52, 52, 53, 43,\n",
              "       60, 51, 51, 51, 57, 48, 41, 33, 45, 51, 44, 43, 46, 45, 43, 43, 51,\n",
              "       42, 50, 46, 49, 58, 47, 48, 55, 46, 47, 53, 49, 53, 56, 39])"
            ]
          },
          "metadata": {
            "tags": []
          },
          "execution_count": 19
        }
      ]
    },
    {
      "cell_type": "markdown",
      "metadata": {
        "id": "CjxeEr1sPJvx"
      },
      "source": [
        "Hãy tham khảo các hướng dẫn sau để kiểm định tính chất thứ 2 bằng phương pháp Shapiro-Wilks đối với sample_1 và sample_2\n",
        "\n",
        "(1) [Tài liệu tham khảo scipy](https://docs.scipy.org/doc/scipy/reference/generated/scipy.stats.shapiro.html)\n",
        "\n",
        "(2) [Hướng dẫn cụ thể của statology](https://www.statology.org/shapiro-wilk-test-python/)"
      ]
    },
    {
      "cell_type": "code",
      "metadata": {
        "id": "Xa4o0zEjPJvy",
        "colab": {
          "base_uri": "https://localhost:8080/",
          "height": 231
        },
        "outputId": "d8efd5c5-426f-4db4-8b08-eefa8ea20586"
      },
      "source": [
        "shapiro_test = stats.shapiro(sample_2)\n",
        "shapiro_test\n",
        "a = 0.05\n",
        "if(shapiro_test > 0 and pvalue < a):\n",
        "  print(\"Có bằng chứng để bác bỏ giả thuyết H0\")\n",
        "else:\n",
        "  print(\"Chưa có bằng chứng để bác bỏ giả thuyết H0\")\n",
        "\n"
      ],
      "execution_count": 30,
      "outputs": [
        {
          "output_type": "error",
          "ename": "TypeError",
          "evalue": "ignored",
          "traceback": [
            "\u001b[0;31m---------------------------------------------------------------------------\u001b[0m",
            "\u001b[0;31mTypeError\u001b[0m                                 Traceback (most recent call last)",
            "\u001b[0;32m<ipython-input-30-1b1e1b9cab6c>\u001b[0m in \u001b[0;36m<module>\u001b[0;34m()\u001b[0m\n\u001b[1;32m      2\u001b[0m \u001b[0mshapiro_test\u001b[0m\u001b[0;34m\u001b[0m\u001b[0;34m\u001b[0m\u001b[0m\n\u001b[1;32m      3\u001b[0m \u001b[0ma\u001b[0m \u001b[0;34m=\u001b[0m \u001b[0;36m0.05\u001b[0m\u001b[0;34m\u001b[0m\u001b[0;34m\u001b[0m\u001b[0m\n\u001b[0;32m----> 4\u001b[0;31m \u001b[0;32mif\u001b[0m\u001b[0;34m(\u001b[0m\u001b[0mshapiro_test\u001b[0m \u001b[0;34m>\u001b[0m \u001b[0;36m0\u001b[0m \u001b[0;32mand\u001b[0m \u001b[0mpvalue\u001b[0m \u001b[0;34m<\u001b[0m \u001b[0ma\u001b[0m\u001b[0;34m)\u001b[0m\u001b[0;34m:\u001b[0m\u001b[0;34m\u001b[0m\u001b[0;34m\u001b[0m\u001b[0m\n\u001b[0m\u001b[1;32m      5\u001b[0m   \u001b[0mprint\u001b[0m\u001b[0;34m(\u001b[0m\u001b[0;34m\"Có bằng chứng để bác bỏ giả thuyết H0\"\u001b[0m\u001b[0;34m)\u001b[0m\u001b[0;34m\u001b[0m\u001b[0;34m\u001b[0m\u001b[0m\n\u001b[1;32m      6\u001b[0m \u001b[0;32melse\u001b[0m\u001b[0;34m:\u001b[0m\u001b[0;34m\u001b[0m\u001b[0;34m\u001b[0m\u001b[0m\n",
            "\u001b[0;31mTypeError\u001b[0m: '>' not supported between instances of 'tuple' and 'int'"
          ]
        }
      ]
    },
    {
      "cell_type": "code",
      "metadata": {
        "colab": {
          "base_uri": "https://localhost:8080/"
        },
        "id": "HWlobR9sW6KF",
        "outputId": "8e964de0-5274-43e7-8446-d8bb02671834"
      },
      "source": [
        "shapiro(sample_2)"
      ],
      "execution_count": 26,
      "outputs": [
        {
          "output_type": "execute_result",
          "data": {
            "text/plain": [
              "(0.9878113269805908, 0.4944014847278595)"
            ]
          },
          "metadata": {
            "tags": []
          },
          "execution_count": 26
        }
      ]
    },
    {
      "cell_type": "code",
      "metadata": {
        "colab": {
          "base_uri": "https://localhost:8080/"
        },
        "id": "U9O3nKVBV0iL",
        "outputId": "ec7a4405-a73d-4967-82a1-d0000ab248ab"
      },
      "source": [
        "shapiro_test1 = stats.shapiro(samples_1)\n",
        "shapiro_test1"
      ],
      "execution_count": 15,
      "outputs": [
        {
          "output_type": "execute_result",
          "data": {
            "text/plain": [
              "(0.9953531622886658, 0.9832149744033813)"
            ]
          },
          "metadata": {
            "tags": []
          },
          "execution_count": 15
        }
      ]
    },
    {
      "cell_type": "markdown",
      "metadata": {
        "id": "wGBnReG9PJvz"
      },
      "source": [
        "Hãy tham khảo các hướng dẫn sau để kiểm định tính chất thứ 3 bằng kiểm định Bartlett hoặc kiểm định Levene\n",
        "\n",
        "(1) [Hướng dẫn tổng quát](https://www.marsja.se/levenes-bartletts-test-of-equality-homogeneity-of-variance-in-python/)\n",
        "\n",
        "(2) [Hướng dẫn ở stackoverflow](https://stackoverflow.com/questions/36141254/how-to-test-for-homoscedasticity-having-the-same-population-variance-in-python)\n",
        "\n",
        "(3) Sử dụng bài giảng về kiểm định Bartlett và Levene ở buổi trước"
      ]
    },
    {
      "cell_type": "code",
      "metadata": {
        "id": "WyudedxpPJv0"
      },
      "source": [
        "#Code kiểm định tính đồng nhất về phương sai của các nhóm"
      ],
      "execution_count": null,
      "outputs": []
    },
    {
      "cell_type": "code",
      "metadata": {
        "id": "qhxsD7EzPJv1"
      },
      "source": [
        ""
      ],
      "execution_count": null,
      "outputs": []
    }
  ]
}