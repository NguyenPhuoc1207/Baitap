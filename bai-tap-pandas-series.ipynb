{
 "cells": [
  {
   "cell_type": "markdown",
   "metadata": {},
   "source": [
    "Câu 1: Hãy tạo 1 đối tượng kiểu Series có tối thiểu 10 phần tử (kiểu số) với giá trị tùy ý thích của bạn. \n",
    "       In giá trị của Series đó ra màn hình"
   ]
  },
  {
   "cell_type": "code",
   "execution_count": 1,
   "metadata": {},
   "outputs": [
    {
     "ename": "ModuleNotFoundError",
     "evalue": "No module named 'pandas'",
     "output_type": "error",
     "traceback": [
      "\u001b[1;31m---------------------------------------------------------------------------\u001b[0m",
      "\u001b[1;31mModuleNotFoundError\u001b[0m                       Traceback (most recent call last)",
      "\u001b[1;32m<ipython-input-1-992de21b8616>\u001b[0m in \u001b[0;36m<module>\u001b[1;34m\u001b[0m\n\u001b[1;32m----> 1\u001b[1;33m \u001b[1;32mimport\u001b[0m \u001b[0mpandas\u001b[0m \u001b[1;32mas\u001b[0m \u001b[0mpd\u001b[0m\u001b[1;33m\u001b[0m\u001b[1;33m\u001b[0m\u001b[0m\n\u001b[0m\u001b[0;32m      2\u001b[0m \u001b[1;32mimport\u001b[0m \u001b[0mnumpy\u001b[0m \u001b[1;32mas\u001b[0m \u001b[0mnp\u001b[0m\u001b[1;33m\u001b[0m\u001b[1;33m\u001b[0m\u001b[0m\n\u001b[0;32m      3\u001b[0m \u001b[0ms\u001b[0m \u001b[1;33m=\u001b[0m \u001b[0mpd\u001b[0m\u001b[1;33m.\u001b[0m\u001b[0mSeries\u001b[0m\u001b[1;33m(\u001b[0m\u001b[0mnp\u001b[0m\u001b[1;33m.\u001b[0m\u001b[0mrandom\u001b[0m\u001b[1;33m.\u001b[0m\u001b[0mrandint\u001b[0m\u001b[1;33m(\u001b[0m\u001b[1;36m100\u001b[0m\u001b[1;33m,\u001b[0m\u001b[0msize\u001b[0m \u001b[1;33m=\u001b[0m \u001b[1;36m20\u001b[0m\u001b[1;33m)\u001b[0m\u001b[1;33m)\u001b[0m\u001b[1;33m\u001b[0m\u001b[1;33m\u001b[0m\u001b[0m\n\u001b[0;32m      4\u001b[0m \u001b[0ms\u001b[0m\u001b[1;33m\u001b[0m\u001b[1;33m\u001b[0m\u001b[0m\n\u001b[0;32m      5\u001b[0m \u001b[1;33m\u001b[0m\u001b[0m\n",
      "\u001b[1;31mModuleNotFoundError\u001b[0m: No module named 'pandas'"
     ]
    }
   ],
   "source": [
    "import pandas as pd\n",
    "import numpy as np\n",
    "s = pd.Series(np.random.randint(100,size = 20))\n",
    "s             \n",
    "             "
   ]
  },
  {
   "cell_type": "markdown",
   "metadata": {},
   "source": [
    "Câu 2: Hãy tạo 1 đối tượng kiểu Series với giá trị khởi tạo hình thành từ dữ liệu kiểu Dictionary. In kết quả ra màn hình"
   ]
  },
  {
   "cell_type": "code",
   "execution_count": 43,
   "metadata": {},
   "outputs": [
    {
     "data": {
      "text/plain": [
       "Iphone           10\n",
       "Samsung Note     12\n",
       "Samsung S        30\n",
       "Nokia           100\n",
       "Cuong             0\n",
       "dtype: int64"
      ]
     },
     "execution_count": 43,
     "metadata": {},
     "output_type": "execute_result"
    }
   ],
   "source": [
    "phones = ['Iphone',\"Samsung Note\",\"Samsung S\",\"Nokia\",\"Cuong\"]\n",
    "quantities = [10,12,30,100,0]\n",
    "\n",
    "dictionary = dict(zip(phones, quantities))\n",
    "dictionary\n",
    "\n",
    "{'Samsung Note': 12, 'Samsung S': 30, 'Nokia': 100, 'Iphone': 10, 'Cuong':0}\n",
    "S = pd.Series(dictionary)\n",
    "S"
   ]
  },
  {
   "cell_type": "markdown",
   "metadata": {},
   "source": [
    "Câu 3: Sử dụng series ở câu 1, hãy thay đổi giá trị của cột index từ kiểu số theo kiểu ký tự với giá trị do bạn tự xác định."
   ]
  },
  {
   "cell_type": "code",
   "execution_count": 30,
   "metadata": {},
   "outputs": [
    {
     "data": {
      "text/plain": [
       "t     9\n",
       "h    58\n",
       "a    78\n",
       "y    48\n",
       "c    95\n",
       "u    88\n",
       "o    56\n",
       "n    67\n",
       "g    47\n",
       "d    77\n",
       "e    72\n",
       "p    16\n",
       "t    58\n",
       "r    91\n",
       "a    48\n",
       "i    23\n",
       "n     3\n",
       "h    87\n",
       "a    38\n",
       "t    89\n",
       "dtype: int32"
      ]
     },
     "execution_count": 30,
     "metadata": {},
     "output_type": "execute_result"
    }
   ],
   "source": [
    "s = pd.Series(np.random.randint(100,size = 20),\n",
    "index=['t', 'h', 'a', 'y', 'c', 'u', 'o', 'n', 'g', 'd', 'e','p', 't', 'r', 'a', 'i', 'n', 'h', 'a', 't'])\n",
    "s     "
   ]
  },
  {
   "cell_type": "markdown",
   "metadata": {},
   "source": [
    "Câu 4: Sử dụng series ở câu 2, hãy truy cập đến phần tử thứ 5 và in ra màn hình"
   ]
  },
  {
   "cell_type": "code",
   "execution_count": 49,
   "metadata": {},
   "outputs": [
    {
     "name": "stdout",
     "output_type": "stream",
     "text": [
      "Cuong\n"
     ]
    }
   ],
   "source": [
    "phones = ['Iphone',\"Samsung Note\",\"Samsung S\",\"Nokia\",\"Cuong\"]\n",
    "quantities = [10,12,30,100,0]\n",
    "\n",
    "dictionary = dict(zip(phones, quantities))\n",
    "dictionary\n",
    "\n",
    "{'Samsung Note': 12, 'Samsung S': 30, 'Nokia': 100, 'Iphone': 10, 'Cuong':0}\n",
    "S = pd.Series(dictionary)\n",
    "print(phones[4])"
   ]
  },
  {
   "cell_type": "markdown",
   "metadata": {},
   "source": [
    "Câu 5: Sử dụng series ở câu 3, hãy truy cập đến 1 phần tử dựa theo chỉ số kiểu ký tự do bạn lựa chọn và in ra màn hình"
   ]
  },
  {
   "cell_type": "code",
   "execution_count": 53,
   "metadata": {},
   "outputs": [
    {
     "name": "stdout",
     "output_type": "stream",
     "text": [
      "56\n"
     ]
    }
   ],
   "source": [
    "s = pd.Series(np.random.randint(100,size = 20),\n",
    "index=['t', 'h', 'a', 'y', 'c', 'u', 'o', 'n', 'g', 'd', 'e','p', 't', 'r', 'a', 'i', 'n', 'h', 'a', 't'])\n",
    "print(s['c'])  "
   ]
  },
  {
   "cell_type": "markdown",
   "metadata": {},
   "source": [
    "Câu 6: Sử dụng series ở câu 3, hãy tìm ra tính chất đặc thù trong các chỉ số kiểu kí tự, thực hiện vòng lặp for duyệt trên các chỉ mục kiểu kí tự này để lọc ra những phần tử thỏa mãn điều kiện và in ra màn hình"
   ]
  },
  {
   "cell_type": "code",
   "execution_count": 57,
   "metadata": {},
   "outputs": [
    {
     "name": "stdout",
     "output_type": "stream",
     "text": [
      "t    68\n",
      "t    15\n",
      "t    53\n",
      "dtype: int32\n"
     ]
    }
   ],
   "source": [
    "print(s[[name.endswith(\"t\") or name.startswith(\"5\") for name in s.index]])"
   ]
  },
  {
   "cell_type": "markdown",
   "metadata": {},
   "source": [
    "Câu 7: Sử dụng series ở câu 1, hãy đổi tên cột index thành 'STT' và đặt tên cho series là 'Gia_tri'. In kết quả ra màn hình "
   ]
  },
  {
   "cell_type": "code",
   "execution_count": 58,
   "metadata": {},
   "outputs": [
    {
     "name": "stdout",
     "output_type": "stream",
     "text": [
      "STT\n",
      "t    68\n",
      "h    64\n",
      "a    79\n",
      "y    84\n",
      "c    56\n",
      "u    21\n",
      "o    21\n",
      "n    15\n",
      "g    35\n",
      "d    82\n",
      "e    49\n",
      "p    46\n",
      "t    15\n",
      "r     1\n",
      "a    34\n",
      "i    14\n",
      "n    23\n",
      "h    99\n",
      "a    41\n",
      "t    53\n",
      "Name: Gia_Tri, dtype: int32\n"
     ]
    }
   ],
   "source": [
    "\n",
    "\n",
    "s.index.name = \"STT\"\n",
    "s.name = \"Gia_Tri\"\n",
    "print(s)"
   ]
  },
  {
   "cell_type": "markdown",
   "metadata": {},
   "source": [
    "Câu 8: Hãy áp dụng hàm logarith của gói numpy với series ở câu 1 và in kết quả ra màn hình"
   ]
  },
  {
   "cell_type": "code",
   "execution_count": 59,
   "metadata": {},
   "outputs": [
    {
     "data": {
      "text/plain": [
       "STT\n",
       "t    4.219508\n",
       "h    4.158883\n",
       "a    4.369448\n",
       "y    4.430817\n",
       "c    4.025352\n",
       "u    3.044522\n",
       "o    3.044522\n",
       "n    2.708050\n",
       "g    3.555348\n",
       "d    4.406719\n",
       "e    3.891820\n",
       "p    3.828641\n",
       "t    2.708050\n",
       "r    0.000000\n",
       "a    3.526361\n",
       "i    2.639057\n",
       "n    3.135494\n",
       "h    4.595120\n",
       "a    3.713572\n",
       "t    3.970292\n",
       "Name: Gia_Tri, dtype: float64"
      ]
     },
     "execution_count": 59,
     "metadata": {},
     "output_type": "execute_result"
    }
   ],
   "source": [
    "np.log(s)"
   ]
  },
  {
   "cell_type": "markdown",
   "metadata": {},
   "source": [
    "Câu 9: Lọc các giá trị của series 1 > 15 và in ra màn hình"
   ]
  },
  {
   "cell_type": "code",
   "execution_count": 60,
   "metadata": {},
   "outputs": [
    {
     "name": "stdout",
     "output_type": "stream",
     "text": [
      "0     68\n",
      "1     64\n",
      "2     79\n",
      "3     84\n",
      "4     56\n",
      "5     21\n",
      "6     21\n",
      "7     35\n",
      "8     82\n",
      "9     49\n",
      "10    46\n",
      "11    34\n",
      "12    23\n",
      "13    99\n",
      "14    41\n",
      "15    53\n",
      "dtype: int64\n"
     ]
    }
   ],
   "source": [
    "se = []      #Để chứa các giá trị của series 1 > 15\n",
    "for row in s:\n",
    "    if row > 15:\n",
    "        se.append(row)    #Thêm các giá trị của series 1 > 15 vào \n",
    "\n",
    "srs = pd.Series(se)\n",
    "print(srs)"
   ]
  },
  {
   "cell_type": "code",
   "execution_count": null,
   "metadata": {},
   "outputs": [],
   "source": []
  }
 ],
 "metadata": {
  "kernelspec": {
   "display_name": "Python 3",
   "language": "python",
   "name": "python3"
  },
  "language_info": {
   "codemirror_mode": {
    "name": "ipython",
    "version": 3
   },
   "file_extension": ".py",
   "mimetype": "text/x-python",
   "name": "python",
   "nbconvert_exporter": "python",
   "pygments_lexer": "ipython3",
   "version": "3.8.8"
  }
 },
 "nbformat": 4,
 "nbformat_minor": 2
}
